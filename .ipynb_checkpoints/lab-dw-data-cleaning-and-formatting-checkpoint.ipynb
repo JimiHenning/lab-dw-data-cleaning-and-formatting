{
 "cells": [
  {
   "cell_type": "markdown",
   "id": "25d7736c-ba17-4aff-b6bb-66eba20fbf4e",
   "metadata": {
    "id": "25d7736c-ba17-4aff-b6bb-66eba20fbf4e"
   },
   "source": [
    "# Lab | Data Cleaning and Formatting"
   ]
  },
  {
   "cell_type": "markdown",
   "id": "d1973e9e-8be6-4039-b70e-d73ee0d94c99",
   "metadata": {
    "id": "d1973e9e-8be6-4039-b70e-d73ee0d94c99"
   },
   "source": [
    "In this lab, we will be working with the customer data from an insurance company, which can be found in the CSV file located at the following link: https://raw.githubusercontent.com/data-bootcamp-v4/data/main/file1.csv\n"
   ]
  },
  {
   "cell_type": "markdown",
   "id": "31b8a9e7-7db9-4604-991b-ef6771603e57",
   "metadata": {
    "id": "31b8a9e7-7db9-4604-991b-ef6771603e57"
   },
   "source": [
    "# Challenge 1: Data Cleaning and Formatting"
   ]
  },
  {
   "cell_type": "markdown",
   "id": "81553f19-9f2c-484b-8940-520aff884022",
   "metadata": {
    "id": "81553f19-9f2c-484b-8940-520aff884022"
   },
   "source": [
    "## Exercise 1: Cleaning Column Names"
   ]
  },
  {
   "cell_type": "markdown",
   "id": "34a929f4-1be4-4fa8-adda-42ffd920be90",
   "metadata": {
    "id": "34a929f4-1be4-4fa8-adda-42ffd920be90"
   },
   "source": [
    "To ensure consistency and ease of use, standardize the column names of the dataframe. Start by taking a first look at the dataframe and identifying any column names that need to be modified. Use appropriate naming conventions and make sure that column names are descriptive and informative.\n",
    "\n",
    "*Hint*:\n",
    "- *Column names should be in lower case*\n",
    "- *White spaces in column names should be replaced by `_`*\n",
    "- *`st` could be replaced for `state`*"
   ]
  },
  {
   "cell_type": "code",
   "execution_count": null,
   "id": "dce878dd-56f9-4ef0-806a-2137aff56dd3",
   "metadata": {},
   "outputs": [],
   "source": [
    "%load_ext autoreload\n",
    "%autoreload 2 "
   ]
  },
  {
   "cell_type": "code",
   "execution_count": null,
   "id": "5810735c-8056-4442-bbf2-dda38d3e284a",
   "metadata": {
    "id": "5810735c-8056-4442-bbf2-dda38d3e284a"
   },
   "outputs": [],
   "source": [
    "# Your code here\n",
    "import numpy as np\n",
    "import pandas as pd\n",
    "import re\n",
    "\n",
    "car_insurance_df = pd.read_csv(\"https://raw.githubusercontent.com/data-bootcamp-v4/data/main/file1.csv\")\n",
    "\n",
    "car_insurance_df.head()"
   ]
  },
  {
   "cell_type": "code",
   "execution_count": null,
   "id": "1490b6d8-e88e-444a-bbe1-86afe5fc67f7",
   "metadata": {},
   "outputs": [],
   "source": [
    "pd.options.display.float_format = '{:.2f}'.format\n",
    "pd.set_option('display.max_rows', 200)"
   ]
  },
  {
   "cell_type": "code",
   "execution_count": null,
   "id": "a3048608-3745-4fbe-bdb8-885661f1a468",
   "metadata": {},
   "outputs": [],
   "source": [
    "def strip_replace_ws (df):\n",
    "    df.columns = df.columns.str.lower().str.replace(\" \",\"_\")\n",
    "    return df"
   ]
  },
  {
   "cell_type": "code",
   "execution_count": null,
   "id": "75559306-1a3d-4694-99f6-7259a34fafce",
   "metadata": {},
   "outputs": [],
   "source": [
    "def rename_columns (df, replacements):\n",
    "    df.rename(columns=replacements, inplace=True)\n",
    "    return df\n"
   ]
  },
  {
   "cell_type": "code",
   "execution_count": null,
   "id": "fb1ccfe5-8f82-4d7b-a545-d55795c118f5",
   "metadata": {},
   "outputs": [],
   "source": [
    "strip_replace_ws(car_insurance_df)"
   ]
  },
  {
   "cell_type": "code",
   "execution_count": null,
   "id": "daeb905a-4c44-459d-90bc-9fbb3ee2cb59",
   "metadata": {},
   "outputs": [],
   "source": [
    "column_renames = {\"st\":\"state\"}\n",
    "rename_columns(car_insurance_df, column_renames)"
   ]
  },
  {
   "cell_type": "code",
   "execution_count": null,
   "id": "75f1dfa6-12e7-4893-812d-fb2b93316c71",
   "metadata": {},
   "outputs": [],
   "source": []
  },
  {
   "cell_type": "code",
   "execution_count": null,
   "id": "7482abfb-9e85-4fa7-9474-d1fd6987eadf",
   "metadata": {},
   "outputs": [],
   "source": [
    "#car_insurance_df.columns = car_insurance_df.columns.str.lower().str.replace(\" \",\"_\")\n",
    "#car_insurance_df = car_insurance_df.rename(columns={\"st\" : \"state\"})\n",
    "#car_insurance_df"
   ]
  },
  {
   "cell_type": "markdown",
   "id": "9cb501ec-36ff-4589-b872-6252bb150316",
   "metadata": {
    "id": "9cb501ec-36ff-4589-b872-6252bb150316"
   },
   "source": [
    "## Exercise 2: Cleaning invalid Values"
   ]
  },
  {
   "cell_type": "markdown",
   "id": "771fdcf3-8e20-4b06-9c24-3a93ba2b0909",
   "metadata": {
    "id": "771fdcf3-8e20-4b06-9c24-3a93ba2b0909"
   },
   "source": [
    "The dataset contains columns with inconsistent and incorrect values that could affect the accuracy of our analysis. Therefore, we need to clean these columns to ensure that they only contain valid data.\n",
    "\n",
    "Note that this exercise will focus only on cleaning inconsistent values and will not involve handling null values (NaN or None).\n",
    "\n",
    "*Hint*:\n",
    "- *Gender column contains various inconsistent values such as \"F\", \"M\", \"Femal\", \"Male\", \"female\", which need to be standardized, for example, to \"M\" and \"F\".*\n",
    "- *State abbreviations be can replaced with its full name, for example \"AZ\": \"Arizona\", \"Cali\": \"California\", \"WA\": \"Washington\"*\n",
    "- *In education, \"Bachelors\" could be replaced by \"Bachelor\"*\n",
    "- *In Customer Lifetime Value, delete the `%` character*\n",
    "- *In vehicle class, \"Sports Car\", \"Luxury SUV\" and \"Luxury Car\" could be replaced by \"Luxury\"*"
   ]
  },
  {
   "cell_type": "code",
   "execution_count": null,
   "id": "20b15eac-7c28-4574-953e-82bb4db1da63",
   "metadata": {},
   "outputs": [],
   "source": [
    "car_insurance_df.dtypes"
   ]
  },
  {
   "cell_type": "code",
   "execution_count": null,
   "id": "3f8ee5cb-50ab-48af-8a9f-9a389804033c",
   "metadata": {
    "id": "3f8ee5cb-50ab-48af-8a9f-9a389804033c"
   },
   "outputs": [],
   "source": [
    "# Your code here\n",
    "car_insurance_df.head()"
   ]
  },
  {
   "cell_type": "code",
   "execution_count": null,
   "id": "d25062f1-73d2-42ff-91fb-89869039007f",
   "metadata": {},
   "outputs": [],
   "source": [
    "def replace_values(df, whole_replacements, substring_replacements):\n",
    "    \"\"\"\n",
    "    df: pandas DataFrame\n",
    "    replacements_dict: A dictionary where the keys are tuples of values to be replaced,\n",
    "                       and the values are the new values they should be replaced with.\n",
    "    \"\"\"\n",
    "    for key, value in whole_replacements.items():\n",
    "        df.replace(key, value, inplace=True)\n",
    "\n",
    "    for key, value in substring_replacements.items():\n",
    "        if isinstance(key, str):\n",
    "            for col in df.select_dtypes(include='object').columns:\n",
    "                df[col] = df[col].str.replace(key, value, regex=True)\n",
    "    return df\n",
    "\n",
    "    # Update the DataFrame with the results of the apply\n",
    "    for col in df.columns:\n",
    "        df[col] = df[col].astype('object')\n",
    "    \n",
    "    return df\n",
    "\n",
    "\n"
   ]
  },
  {
   "cell_type": "code",
   "execution_count": null,
   "id": "11d5d444-dfc0-4fb9-a573-eb14e0daccb2",
   "metadata": {},
   "outputs": [],
   "source": []
  },
  {
   "cell_type": "code",
   "execution_count": null,
   "id": "015c0189-df3c-4eff-9b6c-d0089ebdee69",
   "metadata": {},
   "outputs": [],
   "source": []
  },
  {
   "cell_type": "code",
   "execution_count": null,
   "id": "6b54e339-b739-4e23-beb2-8a4e3c6fc33a",
   "metadata": {},
   "outputs": [],
   "source": [
    "whole_replacements = {\"Male\":\"M\",(\"female\", \"Femal\"):\"F\",\"AZ\":\"Arizona\",\"Cali\":\"California\",\"WA\":\"Washington\",(\"Sports Car\", \"Luxury SUV\", \"Luxury Car\"):\"Luxury\", \"Bachelors\":\"Bachelor\"}\n",
    "substring_replacements = {\"%\":\"\"}\n",
    "replace_values(car_insurance_df, whole_replacements, substring_replacements)"
   ]
  },
  {
   "cell_type": "code",
   "execution_count": null,
   "id": "57a81d55-b940-46cd-a1f0-933490aa03af",
   "metadata": {},
   "outputs": [],
   "source": []
  },
  {
   "cell_type": "markdown",
   "id": "85ff78ce-0174-4890-9db3-8048b7d7d2d0",
   "metadata": {
    "id": "85ff78ce-0174-4890-9db3-8048b7d7d2d0"
   },
   "source": [
    "## Exercise 3: Formatting data types"
   ]
  },
  {
   "cell_type": "markdown",
   "id": "b91c2cf8-79a2-4baf-9f65-ff2fb22270bd",
   "metadata": {
    "id": "b91c2cf8-79a2-4baf-9f65-ff2fb22270bd"
   },
   "source": [
    "The data types of many columns in the dataset appear to be incorrect. This could impact the accuracy of our analysis. To ensure accurate analysis, we need to correct the data types of these columns. Please update the data types of the columns as appropriate."
   ]
  },
  {
   "cell_type": "markdown",
   "id": "43e5d853-ff9e-43b2-9d92-aef2f78764f3",
   "metadata": {
    "id": "43e5d853-ff9e-43b2-9d92-aef2f78764f3"
   },
   "source": [
    "It is important to note that this exercise does not involve handling null values (NaN or None)."
   ]
  },
  {
   "cell_type": "markdown",
   "id": "329ca691-9196-4419-8969-3596746237a1",
   "metadata": {
    "id": "329ca691-9196-4419-8969-3596746237a1"
   },
   "source": [
    "*Hint*:\n",
    "- *Customer lifetime value should be numeric*\n",
    "- *Number of open complaints has an incorrect format. Look at the different values it takes with `unique()` and take the middle value. As an example, 1/5/00 should be 5. Number of open complaints is a string - remember you can use `split()` to deal with it and take the number you need. Finally, since it should be numeric, cast the column to be in its proper type.*"
   ]
  },
  {
   "cell_type": "code",
   "execution_count": null,
   "id": "adcf99f4-647d-45e7-bb59-883edfda3223",
   "metadata": {},
   "outputs": [],
   "source": [
    "car_insurance_df.head()"
   ]
  },
  {
   "cell_type": "code",
   "execution_count": null,
   "id": "f118a05b-1504-4516-b362-6458f98bfa5d",
   "metadata": {},
   "outputs": [],
   "source": [
    "car_insurance_df.dtypes"
   ]
  },
  {
   "cell_type": "code",
   "execution_count": null,
   "id": "7490ed63-f8ee-4282-b5da-513aa0196759",
   "metadata": {},
   "outputs": [],
   "source": [
    "def get_char(df, *column_names):\n",
    "    for column_name in column_names:\n",
    "        if column_name in df.columns:\n",
    "\n",
    "            def get_complaints(value):\n",
    "                if isinstance(value, str):\n",
    "                    split_list = value.split(\"/\")\n",
    "                    return split_list[1]\n",
    "                else:\n",
    "                    return value\n",
    "\n",
    "            df[column_name] = df[column_name].apply(get_complaints)\n",
    "            return df\n",
    "\n",
    "        else:\n",
    "            raise KeyError(f\"Column '{column_name}' not found in the DataFrame\")\n",
    "\n",
    "\n",
    "\n",
    "def recast(df, *column_names):\n",
    "    for column_name in column_names:\n",
    "        if column_name in df.columns:\n",
    "\n",
    "            df[column_name] = pd.to_numeric(df[column_name], errors='coerce')\n",
    "            df[column_name] = df[column_name].round(0).astype('Int64')\n",
    "        else:\n",
    "            raise KeyError(f\"Column '{column_name}' not found in the DataFrame\")\n",
    "\n",
    "    return df\n",
    "\n"
   ]
  },
  {
   "cell_type": "code",
   "execution_count": null,
   "id": "d3826d5f-e792-4b7e-a7a3-d9654bf29e95",
   "metadata": {},
   "outputs": [],
   "source": [
    "get_char(car_insurance_df, 'number_of_open_complaints')"
   ]
  },
  {
   "cell_type": "code",
   "execution_count": null,
   "id": "ea4d3647-a7ca-4462-8ffe-b4c5e487711c",
   "metadata": {},
   "outputs": [],
   "source": [
    "recast(car_insurance_df, \"customer_lifetime_value\",\"income\",\"monthly_premium_auto\",\"total_claim_amount\",\"number_of_open_complaints\")"
   ]
  },
  {
   "cell_type": "code",
   "execution_count": null,
   "id": "88dc98a7-4c63-47a6-b8f1-d3b63af23680",
   "metadata": {},
   "outputs": [],
   "source": [
    "car_insurance_df.dtypes"
   ]
  },
  {
   "cell_type": "code",
   "execution_count": null,
   "id": "37cba866-f045-4d42-a056-4f8535e313b8",
   "metadata": {},
   "outputs": [],
   "source": [
    "print(car_insurance_df['number_of_open_complaints'].value_counts())"
   ]
  },
  {
   "cell_type": "code",
   "execution_count": null,
   "id": "baa5f785-27be-44f5-b487-4ef76d2f3b1b",
   "metadata": {},
   "outputs": [],
   "source": [
    "print(type(car_insurance_df['number_of_open_complaints'].iloc[1]))\n",
    "print(type(car_insurance_df['number_of_open_complaints'].iloc[2]))\n",
    "print(type(car_insurance_df['number_of_open_complaints'].iloc[3]))\n",
    "print(type(car_insurance_df['number_of_open_complaints'].iloc[4]))"
   ]
  },
  {
   "cell_type": "markdown",
   "id": "14c52e28-2d0c-4dd2-8bd5-3476e34fadc1",
   "metadata": {
    "id": "14c52e28-2d0c-4dd2-8bd5-3476e34fadc1"
   },
   "source": [
    "## Exercise 4: Dealing with Null values"
   ]
  },
  {
   "cell_type": "markdown",
   "id": "34b9a20f-7d32-4417-975e-1b4dfb0e16cd",
   "metadata": {
    "id": "34b9a20f-7d32-4417-975e-1b4dfb0e16cd"
   },
   "source": [
    "Identify any columns with null or missing values. Identify how many null values each column has. You can use the `isnull()` function in pandas to find columns with null values.\n",
    "\n",
    "Decide on a strategy for handling the null values. There are several options, including:\n",
    "\n",
    "- Drop the rows or columns with null values\n",
    "- Fill the null values with a specific value (such as the column mean or median for numerical variables, and mode for categorical variables)\n",
    "- Fill the null values with the previous or next value in the column\n",
    "- Fill the null values based on a more complex algorithm or model (note: we haven't covered this yet)\n",
    "\n",
    "Implement your chosen strategy to handle the null values. You can use the `fillna()` function in pandas to fill null values or `dropna()` function to drop null values.\n",
    "\n",
    "Verify that your strategy has successfully handled the null values. You can use the `isnull()` function again to check if there are still null values in the dataset.\n",
    "\n",
    "Remember to document your process and explain your reasoning for choosing a particular strategy for handling null values.\n",
    "\n",
    "After formatting data types, as a last step, convert all the numeric variables to integers."
   ]
  },
  {
   "cell_type": "code",
   "execution_count": null,
   "id": "f184fc35-7831-4836-a0a5-e7f99e01b40e",
   "metadata": {
    "id": "f184fc35-7831-4836-a0a5-e7f99e01b40e"
   },
   "outputs": [],
   "source": [
    "# Your code here\n",
    "car_insurance_df.isnull().sum()"
   ]
  },
  {
   "cell_type": "code",
   "execution_count": null,
   "id": "cf881ed3-4e21-4b8e-b2db-f4102d8d016e",
   "metadata": {},
   "outputs": [],
   "source": [
    "car_insurance_df.head(20)"
   ]
  },
  {
   "cell_type": "code",
   "execution_count": null,
   "id": "ba2ff31a-6203-4537-8346-1257e9e294a5",
   "metadata": {},
   "outputs": [],
   "source": [
    "def drop_na (df):\n",
    "    \"\"\"\n",
    "    drops all rows where every value is a null-value\n",
    "    \"\"\"\n",
    "    df.dropna(how = \"all\", inplace = True)\n",
    "    return df\n",
    "\n",
    "\n",
    "def fill_na_mean (df, *column_names):\n",
    "    \"\"\"\n",
    "    Fills null-values in the specified columns with the integer value of the mean of the column.\n",
    "    \"\"\"\n",
    "    for column_name in column_names:\n",
    "            col_mean = int(df[column_name].mean())\n",
    "            df[column_name] = df[column_name].fillna(col_mean)  \n",
    "    return df\n",
    "\n",
    "def fill_na_gender_ratio (df, *column_names):\n",
    "    \"\"\"\n",
    "    Fills null values in the specified columns with 'M' and 'F'\n",
    "    based on the ratio of existing values in the column.\n",
    "    \"\"\"\n",
    "\n",
    "    for column_name in column_names:\n",
    "        nan_indices = df[column_name][df[column_name].isna()].index\n",
    "        nan_count = len(nan_indices)\n",
    "\n",
    "        total_count = (df[column_name] == \"M\").sum() + (df[column_name] == \"F\").sum()\n",
    "    \n",
    "        m_ratio = (df[column_name] == \"M\").sum()/total_count\n",
    "        f_ratio = (df[column_name] == \"F\").sum()/total_count\n",
    "\n",
    "        nan_m = int(m_ratio*nan_count)\n",
    "        nan_f = nan_count - nan_m\n",
    "\n",
    "        fill_values = ['M'] * nan_m + ['F'] * nan_f\n",
    "        np.random.shuffle(fill_values)\n",
    "        \n",
    "        fill_series = pd.Series(fill_values, index=nan_indices)\n",
    "        \n",
    "        df[column_name] = df[column_name].fillna(fill_series)\n",
    "    \n",
    "    return df\n"
   ]
  },
  {
   "cell_type": "code",
   "execution_count": null,
   "id": "112a2e50-5f1b-4a53-baed-1aed9a040d50",
   "metadata": {},
   "outputs": [],
   "source": [
    "drop_na(car_insurance_df)\n",
    "car_insurance_df.tail(5)"
   ]
  },
  {
   "cell_type": "code",
   "execution_count": null,
   "id": "6960badd-7550-47ac-97c7-ee4da0638b0d",
   "metadata": {},
   "outputs": [],
   "source": [
    "fill_na_mean(car_insurance_df, \"customer_lifetime_value\")"
   ]
  },
  {
   "cell_type": "code",
   "execution_count": null,
   "id": "9b6d1367-9ee7-444f-986c-0481d177c655",
   "metadata": {},
   "outputs": [],
   "source": [
    "fill_na_gender_ratio(car_insurance_df, \"gender\")"
   ]
  },
  {
   "cell_type": "code",
   "execution_count": null,
   "id": "26762aa9-e573-4ef1-8fd2-ed3d2a15c226",
   "metadata": {},
   "outputs": [],
   "source": [
    "car_insurance_df.isnull().sum()"
   ]
  },
  {
   "cell_type": "code",
   "execution_count": null,
   "id": "411d10ed-8c83-463a-873d-d56fa58352e9",
   "metadata": {},
   "outputs": [],
   "source": [
    "car_insurance_df[\"gender\"].value_counts()"
   ]
  },
  {
   "cell_type": "markdown",
   "id": "98416351-e999-4156-9834-9b00a311adfa",
   "metadata": {
    "id": "98416351-e999-4156-9834-9b00a311adfa"
   },
   "source": [
    "## Exercise 5: Dealing with duplicates"
   ]
  },
  {
   "cell_type": "markdown",
   "id": "ea0816a7-a18e-4d4c-b667-a8452a800bd1",
   "metadata": {
    "id": "ea0816a7-a18e-4d4c-b667-a8452a800bd1"
   },
   "source": [
    "Use the `.duplicated()` method to identify any duplicate rows in the dataframe.\n",
    "\n",
    "Decide on a strategy for handling the duplicates. Options include:\n",
    "- Dropping all duplicate rows\n",
    "- Keeping only the first occurrence of each duplicated row\n",
    "- Keeping only the last occurrence of each duplicated row\n",
    "- Dropping duplicates based on a subset of columns\n",
    "- Dropping duplicates based on a specific column\n",
    "\n",
    "Implement your chosen strategy using the `drop_duplicates()` function.\n",
    "\n",
    "Verify that your strategy has successfully handled the duplicates by checking for duplicates again using `.duplicated()`.\n",
    "\n",
    "Remember to document your process and explain your reasoning for choosing a particular strategy for handling duplicates.\n",
    "\n",
    "Save the cleaned dataset to a new CSV file.\n",
    "\n",
    "*Hint*: *after dropping duplicates, reset the index to ensure consistency*."
   ]
  },
  {
   "cell_type": "code",
   "execution_count": null,
   "id": "c4ff11ec-159d-4142-b162-05ab7d02c34b",
   "metadata": {
    "scrolled": true
   },
   "outputs": [],
   "source": [
    "car_insurance_df.head()"
   ]
  },
  {
   "cell_type": "code",
   "execution_count": null,
   "id": "1929362c-47ed-47cb-baca-358b78d401a0",
   "metadata": {
    "id": "1929362c-47ed-47cb-baca-358b78d401a0"
   },
   "outputs": [],
   "source": [
    "# Your code here\n",
    "car_insurance_df.duplicated().sum()"
   ]
  },
  {
   "cell_type": "code",
   "execution_count": null,
   "id": "37b45938-be01-4b77-a40a-c10b3789c867",
   "metadata": {},
   "outputs": [],
   "source": [
    "car_insurance_df[\"customer\"].duplicated().sum()"
   ]
  },
  {
   "cell_type": "code",
   "execution_count": null,
   "id": "75f6a814-2f06-46cf-b09b-151796ce739f",
   "metadata": {},
   "outputs": [],
   "source": [
    "car_insurance_df[\"customer_lifetime_value\"].duplicated().sum()"
   ]
  },
  {
   "cell_type": "code",
   "execution_count": null,
   "id": "c6dead17-4e0b-40e0-9978-52c3447013fd",
   "metadata": {},
   "outputs": [],
   "source": [
    "dupes = car_insurance_df[car_insurance_df.duplicated(subset=['customer_lifetime_value', 'income',\"monthly_premium_auto\",\"state\",\"policy_type\",\"gender\"], keep=False)]\n",
    "dupes_sorted = dupes.sort_values(by='customer_lifetime_value')\n",
    "dupes_sorted.head(20)\n",
    "\n",
    "#the duplicates in dupes appear to be the same person that has been registered twice, \n",
    "#since all values except those in the \"customer\" column are identical. These will be dropped.\n"
   ]
  },
  {
   "cell_type": "code",
   "execution_count": null,
   "id": "0d5c7981-30b3-4f96-b32a-4e8842bdda70",
   "metadata": {},
   "outputs": [],
   "source": [
    "def drop_duplicates(df, *column_names, keep='first'):\n",
    "    \"\"\"\n",
    "    Drops duplicate rows from the DataFrame based on specified columns.\n",
    "    \"\"\"\n",
    "    \n",
    "    df = df.drop_duplicates(subset=column_names, keep=keep)\n",
    "    \n",
    "    return df\n"
   ]
  },
  {
   "cell_type": "code",
   "execution_count": null,
   "id": "9242fe1f-2d2d-423b-91d4-f9364d5091b8",
   "metadata": {},
   "outputs": [],
   "source": [
    "car_insurance_df = drop_duplicates(car_insurance_df, 'customer_lifetime_value', 'income','monthly_premium_auto','state','policy_type','gender')"
   ]
  },
  {
   "cell_type": "code",
   "execution_count": null,
   "id": "08453fa4-9f9e-4cfe-99f4-eb60ed15e5f9",
   "metadata": {},
   "outputs": [],
   "source": [
    "dupes = car_insurance_df[car_insurance_df.duplicated(subset=['customer_lifetime_value', 'income',\"monthly_premium_auto\",\"state\",\"policy_type\",\"gender\"], keep=False)]\n",
    "dupes_sorted = dupes.sort_values(by='customer_lifetime_value')\n",
    "dupes_sorted.head(20)\n"
   ]
  },
  {
   "cell_type": "markdown",
   "id": "60840701-4783-40e2-b4d8-55303f9100c9",
   "metadata": {
    "id": "60840701-4783-40e2-b4d8-55303f9100c9"
   },
   "source": [
    "# Bonus: Challenge 2: creating functions on a separate `py` file"
   ]
  },
  {
   "cell_type": "markdown",
   "id": "9d1adb3a-17cf-4899-8041-da21a4337fb4",
   "metadata": {
    "id": "9d1adb3a-17cf-4899-8041-da21a4337fb4"
   },
   "source": [
    "Put all the data cleaning and formatting steps into functions, and create a main function that performs all the cleaning and formatting.\n",
    "\n",
    "Write these functions in separate .py file(s). By putting these steps into functions, we can make the code more modular and easier to maintain."
   ]
  },
  {
   "cell_type": "markdown",
   "id": "0e170dc2-b62c-417a-8248-e63ed18a70c4",
   "metadata": {
    "id": "0e170dc2-b62c-417a-8248-e63ed18a70c4"
   },
   "source": [
    "*Hint: autoreload module is a utility module in Python that allows you to automatically reload modules in the current session when changes are made to the source code. This can be useful in situations where you are actively developing code and want to see the effects of changes you make without having to constantly restart the Python interpreter or Jupyter Notebook kernel.*"
   ]
  },
  {
   "cell_type": "code",
   "execution_count": null,
   "id": "c95c9d33-9db5-466f-b084-e5dfa3089ec6",
   "metadata": {},
   "outputs": [],
   "source": [
    "car_insurance_df.head(20)"
   ]
  },
  {
   "cell_type": "code",
   "execution_count": null,
   "id": "569e7af8-791b-4d35-9009-9a85ba0cb65f",
   "metadata": {},
   "outputs": [],
   "source": [
    "import Henning_cleaning_functions as cf"
   ]
  },
  {
   "cell_type": "code",
   "execution_count": null,
   "id": "63a6358f-4132-444f-b6a9-dbfd18b8f6e2",
   "metadata": {},
   "outputs": [],
   "source": [
    "column_replacements = {\"st\":\"state\"}\n",
    "whole_replacements = {\"Male\":\"M\",(\"female\", \"Femal\"):\"F\",\"AZ\":\"Arizona\",\"Cali\":\"California\",\"WA\":\"Washington\",(\"Sports Car\", \"Luxury SUV\", \"Luxury Car\"):\"Luxury\", \"Bachelors\":\"Bachelor\"}\n",
    "substring_replacements = {'%': ''}\n",
    "char_columns = ['number_of_open_complaints']  # Replace with actual column names\n",
    "recast_columns = [\"customer_lifetime_value\",\"income\",\"monthly_premium_auto\",\"total_claim_amount\",\"number_of_open_complaints\"]\n",
    "mean_columns = [\"customer_lifetime_value\"]\n",
    "gender_columns = ['gender']\n",
    "dupe_columns = ['customer_lifetime_value', 'income', 'monthly_premium_auto', 'state', 'policy_type', 'gender']"
   ]
  },
  {
   "cell_type": "code",
   "execution_count": null,
   "id": "a52c6dfc-cd11-4d01-bda4-f719fa33e9a4",
   "metadata": {
    "id": "a52c6dfc-cd11-4d01-bda4-f719fa33e9a4"
   },
   "outputs": [],
   "source": [
    "\n",
    "cleaned_df = cf.clean_dataset(car_insurance_df, column_replacements, whole_replacements, substring_replacements, char_columns, recast_columns, mean_columns, gender_columns, dupe_columns)\n"
   ]
  },
  {
   "cell_type": "code",
   "execution_count": null,
   "id": "e1da147c-3a2c-49d6-b3ab-2fe85e4e448e",
   "metadata": {},
   "outputs": [],
   "source": [
    "cleaned_df.head(20)"
   ]
  },
  {
   "cell_type": "code",
   "execution_count": null,
   "id": "de58d8f9-4a98-4802-8f45-7e27325a9575",
   "metadata": {},
   "outputs": [],
   "source": [
    "cleaned_df.isnull().sum()"
   ]
  },
  {
   "cell_type": "markdown",
   "id": "80f846bb-3f5e-4ca2-96c0-900728daca5a",
   "metadata": {
    "id": "80f846bb-3f5e-4ca2-96c0-900728daca5a",
    "tags": []
   },
   "source": [
    "# Bonus: Challenge 3: Analyzing Clean and Formated Data"
   ]
  },
  {
   "cell_type": "markdown",
   "id": "9021630e-cc90-446c-b5bd-264d6c864207",
   "metadata": {
    "id": "9021630e-cc90-446c-b5bd-264d6c864207"
   },
   "source": [
    "You have been tasked with analyzing the data to identify potential areas for improving customer retention and profitability. Your goal is to identify customers with a high policy claim amount and a low customer lifetime value.\n",
    "\n",
    "In the Pandas Lab, we only looked at high policy claim amounts because we couldn't look into low customer lifetime values. If we had tried to work with that column, we wouldn't have been able to because customer lifetime value wasn't clean and in its proper format. So after cleaning and formatting the data, let's get some more interesting insights!\n",
    "\n",
    "Instructions:\n",
    "\n",
    "- Review the statistics again for total claim amount and customer lifetime value to gain an understanding of the data.\n",
    "- To identify potential areas for improving customer retention and profitability, we want to focus on customers with a high policy claim amount and a low customer lifetime value. Consider customers with a high policy claim amount to be those in the top 25% of the total claim amount, and clients with a low customer lifetime value to be those in the bottom 25% of the customer lifetime value. Create a pandas DataFrame object that contains information about customers with a policy claim amount greater than the 75th percentile and a customer lifetime value in the bottom 25th percentile.\n",
    "- Use DataFrame methods to calculate summary statistics about the high policy claim amount and low customer lifetime value data. To do so, select both columns of the dataframe simultaneously and pass it to the `.describe()` method. This will give you descriptive statistics, such as mean, median, standard deviation, minimum and maximum values for both columns at the same time, allowing you to compare and analyze their characteristics."
   ]
  },
  {
   "cell_type": "code",
   "execution_count": null,
   "id": "211e82b5-461a-4d6f-8a23-4deccb84173c",
   "metadata": {
    "id": "211e82b5-461a-4d6f-8a23-4deccb84173c"
   },
   "outputs": [],
   "source": [
    "# Your code here"
   ]
  }
 ],
 "metadata": {
  "colab": {
   "provenance": []
  },
  "kernelspec": {
   "display_name": "Python 3 (ipykernel)",
   "language": "python",
   "name": "python3"
  },
  "language_info": {
   "codemirror_mode": {
    "name": "ipython",
    "version": 3
   },
   "file_extension": ".py",
   "mimetype": "text/x-python",
   "name": "python",
   "nbconvert_exporter": "python",
   "pygments_lexer": "ipython3",
   "version": "3.12.4"
  }
 },
 "nbformat": 4,
 "nbformat_minor": 5
}
